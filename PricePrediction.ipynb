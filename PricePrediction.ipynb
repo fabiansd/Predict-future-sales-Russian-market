{
  "nbformat": 4,
  "nbformat_minor": 0,
  "metadata": {
    "colab": {
      "name": "PricePrediction.ipynb",
      "version": "0.3.2",
      "provenance": [],
      "include_colab_link": true
    }
  },
  "cells": [
    {
      "cell_type": "markdown",
      "metadata": {
        "id": "view-in-github",
        "colab_type": "text"
      },
      "source": [
        "[View in Colaboratory](https://colab.research.google.com/github/fabiansd/Predict-future-sales-Russian-market/blob/master/PricePrediction.ipynb)"
      ]
    },
    {
      "metadata": {
        "id": "hbvFKOxNMdlh",
        "colab_type": "code",
        "colab": {
          "base_uri": "https://localhost:8080/",
          "height": 978
        },
        "outputId": "61d07e1a-ee40-4dd0-a390-0015e8315fae"
      },
      "cell_type": "code",
      "source": [
        "!pip install kaggle-cli\n",
        "!kg download -u fabiansd  -p thisisnotmyrealpassword -c competitive-data-science-predict-future-sales\n",
        "!gzip -d sales_train.csv.gz\n",
        "!gzip -d sample_submission.csv.gz\n",
        "!gzip -d test.csv.gz\n",
        "!ls"
      ],
      "execution_count": 5,
      "outputs": [
        {
          "output_type": "stream",
          "text": [
            "Requirement already satisfied: kaggle-cli in /usr/local/lib/python2.7/dist-packages (0.12.13)\n",
            "Requirement already satisfied: lxml<4.1,>=4.0.0 in /usr/local/lib/python2.7/dist-packages (from kaggle-cli) (4.0.0)\n",
            "Requirement already satisfied: beautifulsoup4<4.7,>=4.6.0 in /usr/local/lib/python2.7/dist-packages (from kaggle-cli) (4.6.3)\n",
            "Requirement already satisfied: cssselect<1.1,>=1.0.1 in /usr/local/lib/python2.7/dist-packages (from kaggle-cli) (1.0.3)\n",
            "Requirement already satisfied: configparser in /usr/local/lib/python2.7/dist-packages (from kaggle-cli) (3.5.0)\n",
            "Requirement already satisfied: progressbar2<3.35,>=3.34.3 in /usr/local/lib/python2.7/dist-packages (from kaggle-cli) (3.34.3)\n",
            "Requirement already satisfied: cliff<2.9,>=2.8.0 in /usr/local/lib/python2.7/dist-packages (from kaggle-cli) (2.8.2)\n",
            "Requirement already satisfied: MechanicalSoup<0.9,>=0.7.0 in /usr/local/lib/python2.7/dist-packages (from kaggle-cli) (0.8.0)\n",
            "Requirement already satisfied: python-utils>=2.1.0 in /usr/local/lib/python2.7/dist-packages (from progressbar2<3.35,>=3.34.3->kaggle-cli) (2.3.0)\n",
            "Requirement already satisfied: PrettyTable<0.8,>=0.7.1 in /usr/local/lib/python2.7/dist-packages (from cliff<2.9,>=2.8.0->kaggle-cli) (0.7.2)\n",
            "Requirement already satisfied: stevedore>=1.20.0 in /usr/local/lib/python2.7/dist-packages (from cliff<2.9,>=2.8.0->kaggle-cli) (1.29.0)\n",
            "Requirement already satisfied: cmd2<0.9.0,>=0.6.7; python_version < \"3.0\" in /usr/local/lib/python2.7/dist-packages (from cliff<2.9,>=2.8.0->kaggle-cli) (0.8.9)\n",
            "Requirement already satisfied: pyparsing>=2.1.0 in /usr/local/lib/python2.7/dist-packages (from cliff<2.9,>=2.8.0->kaggle-cli) (2.2.0)\n",
            "Requirement already satisfied: PyYAML>=3.10.0 in /usr/local/lib/python2.7/dist-packages (from cliff<2.9,>=2.8.0->kaggle-cli) (3.13)\n",
            "Requirement already satisfied: pbr!=2.1.0,>=2.0.0 in /usr/local/lib/python2.7/dist-packages (from cliff<2.9,>=2.8.0->kaggle-cli) (4.2.0)\n",
            "Requirement already satisfied: unicodecsv>=0.8.0; python_version < \"3.0\" in /usr/local/lib/python2.7/dist-packages (from cliff<2.9,>=2.8.0->kaggle-cli) (0.14.1)\n",
            "Requirement already satisfied: six>=1.9.0 in /usr/local/lib/python2.7/dist-packages (from cliff<2.9,>=2.8.0->kaggle-cli) (1.11.0)\n",
            "Requirement already satisfied: requests>=2.0 in /usr/local/lib/python2.7/dist-packages (from MechanicalSoup<0.9,>=0.7.0->kaggle-cli) (2.18.4)\n",
            "Requirement already satisfied: contextlib2; python_version < \"3.5\" in /usr/local/lib/python2.7/dist-packages (from cmd2<0.9.0,>=0.6.7; python_version < \"3.0\"->cliff<2.9,>=2.8.0->kaggle-cli) (0.5.5)\n",
            "Requirement already satisfied: enum34; python_version < \"3.4\" in /usr/local/lib/python2.7/dist-packages (from cmd2<0.9.0,>=0.6.7; python_version < \"3.0\"->cliff<2.9,>=2.8.0->kaggle-cli) (1.1.6)\n",
            "Requirement already satisfied: wcwidth; sys_platform != \"win32\" in /usr/local/lib/python2.7/dist-packages (from cmd2<0.9.0,>=0.6.7; python_version < \"3.0\"->cliff<2.9,>=2.8.0->kaggle-cli) (0.1.7)\n",
            "Requirement already satisfied: subprocess32; python_version < \"3.0\" in /usr/local/lib/python2.7/dist-packages (from cmd2<0.9.0,>=0.6.7; python_version < \"3.0\"->cliff<2.9,>=2.8.0->kaggle-cli) (3.5.2)\n",
            "Requirement already satisfied: pyperclip in /usr/local/lib/python2.7/dist-packages (from cmd2<0.9.0,>=0.6.7; python_version < \"3.0\"->cliff<2.9,>=2.8.0->kaggle-cli) (1.6.4)\n",
            "Requirement already satisfied: idna<2.7,>=2.5 in /usr/local/lib/python2.7/dist-packages (from requests>=2.0->MechanicalSoup<0.9,>=0.7.0->kaggle-cli) (2.6)\n",
            "Requirement already satisfied: urllib3<1.23,>=1.21.1 in /usr/local/lib/python2.7/dist-packages (from requests>=2.0->MechanicalSoup<0.9,>=0.7.0->kaggle-cli) (1.22)\n",
            "Requirement already satisfied: certifi>=2017.4.17 in /usr/local/lib/python2.7/dist-packages (from requests>=2.0->MechanicalSoup<0.9,>=0.7.0->kaggle-cli) (2018.8.24)\n",
            "Requirement already satisfied: chardet<3.1.0,>=3.0.2 in /usr/local/lib/python2.7/dist-packages (from requests>=2.0->MechanicalSoup<0.9,>=0.7.0->kaggle-cli) (3.0.4)\n",
            "/usr/local/lib/python2.7/dist-packages/mechanicalsoup/browser.py:37: UserWarning: No parser was explicitly specified, so I'm using the best available HTML parser for this system (\"lxml\"). This usually isn't a problem, but if you run this code on another system, or in a different virtual environment, it may use a different parser and behave differently.\n",
            "\n",
            "The code that caused this warning is on line 37 of the file /usr/local/lib/python2.7/dist-packages/mechanicalsoup/browser.py. To get rid of this warning, pass the additional argument 'features=\"lxml\"' to the BeautifulSoup constructor.\n",
            "\n",
            "  response.content, **soup_config)\n",
            "downloading https://www.kaggle.com/c/competitive-data-science-predict-future-sales/download/item_categories.csv\n",
            "\n",
            "item_categories.csv 100% |###########################| Time: 0:00:00  10.8 KiB/s\n",
            "\n",
            "downloading https://www.kaggle.com/c/competitive-data-science-predict-future-sales/download/items.csv\n",
            "\n",
            "items.csv 100% |#####################################| Time: 0:00:00   2.3 MiB/s\n",
            "\n",
            "downloading https://www.kaggle.com/c/competitive-data-science-predict-future-sales/download/shops.csv\n",
            "\n",
            "shops.csv 100% |#####################################| Time: 0:00:00   7.3 KiB/s\n",
            "\n",
            "downloading https://www.kaggle.com/c/competitive-data-science-predict-future-sales/download/sample_submission.csv.gz\n",
            "\n",
            "sample_submission.csv.gz 100% |######################| Time: 0:00:00   1.5 MiB/s\n",
            "\n",
            "downloading https://www.kaggle.com/c/competitive-data-science-predict-future-sales/download/test.csv.gz\n",
            "\n",
            "test.csv.gz 100% |###################################| Time: 0:00:00   3.1 MiB/s\n",
            "\n",
            "downloading https://www.kaggle.com/c/competitive-data-science-predict-future-sales/download/sales_train.csv.gz\n",
            "\n",
            "sales_train.csv.gz 100% |############################| Time: 0:00:00  20.0 MiB/s\n",
            "\n"
          ],
          "name": "stdout"
        }
      ]
    },
    {
      "metadata": {
        "id": "UdNuadHAMsWS",
        "colab_type": "code",
        "colab": {}
      },
      "cell_type": "code",
      "source": [
        "import pandas as pd\n",
        "a = pd.read_csv('sales_train.csv')"
      ],
      "execution_count": 0,
      "outputs": []
    }
  ]
}